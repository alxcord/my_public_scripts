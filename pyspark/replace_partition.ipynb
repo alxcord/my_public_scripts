{
 "cells": [
  {
   "cell_type": "markdown",
   "source": [
    "# Replace partition\r\n",
    "\r\n",
    "Caso de uso: Temos um dado onde é interessante substituir o conteúdo de um \"pedaço\" por vez, é necessario que o dataset seja particionado pelo campo sendo filtrado.\r\n",
    "Se aplica bem em cargas contábeis normalmente mensais onde temos que carregar/recarregar um período contábil de uma vez. Nesse exemplo \r\n"
   ],
   "metadata": {}
  },
  {
   "cell_type": "code",
   "execution_count": null,
   "source": [
    "# Exemplo simplista do uso de replacewhere\r\n",
    "\r\n",
    "# https://dwgeek.com/replace-pyspark-dataframe-column-value-methods.html/\r\n",
    "from pyspark.sql.functions import *\r\n",
    "\r\n",
    "\r\n",
    "# Gerando dados ficticios\r\n",
    "data = []\r\n",
    "for ano in range(2020, 2023):\r\n",
    "  for id in range (100):\r\n",
    "    data.append ((ano, (ano - 2020) * 100 + id, str(id)))\r\n",
    "df = spark.createDataFrame(data, [\"year\", \"id\", \"d_id\"])\r\n",
    "df.show()\r\n",
    "\r\n",
    "\r\n",
    "# Substituindo dados de 2020\r\n",
    "\r\n",
    "df2020 = df.filter(col(\"year\") == 2020)\r\n",
    "\r\n",
    "df2020.write.format(\"delta\") \\\r\n",
    "  .mode(\"overwrite\") \\\r\n",
    "  .partitionBy(\"year\") \\\r\n",
    "  .option(\"replaceWhere\", \"year = 2020\") \\\r\n",
    "  .save(\"/tmp/teste2\")\r\n",
    "\r\n",
    "\r\n",
    "# Substituindo dados de 2021\r\n",
    "\r\n",
    "df2021 = df.filter(col(\"year\") == 2021)\r\n",
    "\r\n",
    "df2021.write.format(\"delta\") \\\r\n",
    "  .mode(\"overwrite\") \\\r\n",
    "  .partitionBy(\"year\") \\\r\n",
    "  .option(\"replaceWhere\", \"year = 2021\") \\\r\n",
    "  .save(\"/tmp/teste2\")\r\n",
    "\r\n",
    "df2 = spark.read.format(\"delta\").load(\"/tmp/teste2\")\r\n",
    "df2.show(1000)\r\n",
    "\r\n",
    "\r\n"
   ],
   "outputs": [],
   "metadata": {}
  },
  {
   "cell_type": "code",
   "execution_count": null,
   "source": [
    "cleansed_dest_path = \"my/dest/path\""
   ],
   "outputs": [],
   "metadata": {}
  },
  {
   "cell_type": "code",
   "execution_count": null,
   "source": [
    "      # Esse código pega a ultima \"versão\" de um ano mes, ou seja, para cada ano mês 'olha\" \r\n",
    "      # em todos os arquivos que foram selecionados e pega o ultimo. \r\n",
    "      # Para cada mês considera os dados apenas do  a ultima data de ingestão. \r\n",
    "      # Coloquei dentro do Loop para evitar que esse dataframe cresça absurdamente.\r\n",
    "      #\r\n",
    "      # Exemplo:\r\n",
    "      #  Ingestão      AnoMes     Contagem\r\n",
    "      #  28/02         202101     2200\r\n",
    "      #  28/02         202102     3200\r\n",
    "      #  08/03         202102     1000\r\n",
    "      #  08/03         202103     100\r\n",
    "      #  09/03         202102     1100\r\n",
    "      #  09/03         202103     110\r\n",
    "      #  Seleciona:\r\n",
    "      #  28/02         202101     2200\r\n",
    "      #  09/03         202102     1100\r\n",
    "      #  09/03         202103     110"
   ],
   "outputs": [],
   "metadata": {}
  },
  {
   "cell_type": "code",
   "execution_count": null,
   "source": [
    "last_exec_date = date.today() # Só um exemplo, Usar para isso um sistema de controle de mudança de data\r\n",
    "folder = \"path/to/data\"\r\n",
    "df = spark.read.json(folder).filter(col(\"DateIngest\") >= last_exec_date)"
   ],
   "outputs": [],
   "metadata": {}
  },
  {
   "cell_type": "code",
   "execution_count": null,
   "source": [
    "# ajusta os tipos dos dados\r\n",
    "df = df.withColumn(\"vl_teste\", col(\"vl_teste\").cast(DoubleType()))\\\r\n",
    "       .withColumn(\"qt_teste\", col(\"qt_teste\").cast(DoubleType()))\\\r\n",
    "       .withColumn('ANO_MES', substring('Data', 1,6)) \\\r\n"
   ],
   "outputs": [],
   "metadata": {}
  },
  {
   "cell_type": "code",
   "execution_count": null,
   "source": [
    "# obtem uma lista de anos meses sendo substituidos\r\n",
    "anos_meses = df2.groupby(\"ANO_MES\", 'DateIngest').count().collect()\r\n",
    "\r\n",
    " \r\n",
    "for ano_mes in anos_meses:\r\n",
    "  print(\"Substituindo ano mes: {0} \".format(ano_mes.ANO_MES))\r\n",
    "  df2.filter(col(\"ANO_MES\") == ano_mes.ANO_MES) \\\r\n",
    "    .write.format(\"delta\") \\\r\n",
    "    .mode(\"overwrite\") \\\r\n",
    "    .partitionBy(\"ANO\", \"ANO_MES\") \\\r\n",
    "    .option(\"mergeSchema\", \"true\") \\\r\n",
    "    .option(\"replaceWhere\", \"ANO_MES = {0}\".format(ano_mes.ANO_MES)) \\\r\n",
    "    .save(cleansed_dest_path)"
   ],
   "outputs": [],
   "metadata": {}
  }
 ],
 "metadata": {
  "orig_nbformat": 4,
  "language_info": {
   "name": "python"
  }
 },
 "nbformat": 4,
 "nbformat_minor": 2
}