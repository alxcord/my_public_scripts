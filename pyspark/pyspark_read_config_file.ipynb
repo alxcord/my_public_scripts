{
 "cells": [
  {
   "cell_type": "code",
   "execution_count": null,
   "source": [
    "# Ler um arquivo de configuração e aplicar como filtro\r\n",
    "\r\n",
    "config_file = '/mnt/sadatalakevcbr/config/Engemix/dualmining_taglist.csv'\r\n",
    "# lê arquivo de configuração com a lista de Tags\r\n",
    "config_tag_list = [ row[0] for row in spark.read.format(\"csv\").option(\"header\",True).load(config_file).collect()]\r\n",
    "\r\n",
    "# Lê dados e aplica filtro\r\n",
    "df_cleansed_tags = spark.read.format(\"delta\").load(source_path)\\\r\n",
    "                        .filter(col(\"tag\").isin(config_tag_list))"
   ],
   "outputs": [],
   "metadata": {}
  }
 ],
 "metadata": {
  "orig_nbformat": 4,
  "language_info": {
   "name": "python"
  }
 },
 "nbformat": 4,
 "nbformat_minor": 2
}