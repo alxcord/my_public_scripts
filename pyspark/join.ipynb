{
 "cells": [
  {
   "cell_type": "markdown",
   "metadata": {},
   "source": [
    "# Como fazer joins no pyspark\n",
    "\n",
    "Para uma explicação melhor acessar [esse link](https://www.datasciencemadesimple.com/join-in-pyspark-merge-inner-outer-right-left-join-in-pyspark/)"
   ]
  },
  {
   "cell_type": "markdown",
   "metadata": {},
   "source": [
    "## Inner join\n",
    "\n",
    "Obtem a intersecção dos dois datasets\n",
    "\n",
    "```python\n",
    "### Inner join in pyspark\n",
    "df_inner = df1.join(df2, on=['Roll_No'], how='inner')\n",
    "```\n"
   ]
  },
  {
   "cell_type": "markdown",
   "metadata": {},
   "source": [
    "## Outer join\n",
    "\n",
    "Entenda como o full outer (traz tudo dos dois datasets)\n",
    "\n",
    "```python\n",
    "### Outer join in pyspark\n",
    "df_outer = df1.join(df2, on=['Roll_No'], how='outer')\n",
    "```"
   ]
  },
  {
   "cell_type": "markdown",
   "metadata": {},
   "source": [
    "## Left join\n",
    "\n",
    "Ou left outer join\n",
    "\n",
    "```python\n",
    "### Left join in pyspark\n",
    "df_left = df1.join(df2, on=['Roll_No'], how='left')\n",
    "```"
   ]
  },
  {
   "cell_type": "markdown",
   "metadata": {},
   "source": [
    "## Right join\n",
    "\n",
    "Ou right outer join\n",
    "\n",
    "```python\n",
    "### Right join in pyspark\n",
    "df_right = df1.join(df2, on=['Roll_No'], how='right')\n",
    "```"
   ]
  },
  {
   "cell_type": "markdown",
   "metadata": {},
   "source": [
    "## Left Anti join\n",
    "\n",
    "Esse traz tudo de df1 que não tem correspondente em df2\n",
    "\n",
    "```python\n",
    "### Left Anti join in pyspark\n",
    "df_left_anti = df1.join(df2, on=['Roll_No'], how='left_anti')\n",
    "\n",
    "```"
   ]
  },
  {
   "cell_type": "markdown",
   "metadata": {},
   "source": [
    "## Left semi join\n",
    "\n",
    "Ver [aqui](https://stackoverflow.com/questions/21738784/difference-between-inner-join-and-left-semi-join#21738897) para uma excelente explicação mas resumindo,\n",
    "é equivalente ao \"SELECT ... WHERE EXISTS (...)\" retorna apenas cada uma das linhas do dataset da esquerda que existirem correspondentes no da direita, retorna apenas uma linha por intersecção mesmo que o dataset da direita tenha mais combinações. Também só pode retornar campos do dataset da esquerda. O inner join em comparação retornaria uma linha para cada intersecção entre esquerda e direta.\n",
    "\n",
    "```python\n",
    "df_left_semi = df1.join(df2, on=['Roll_No'], how='left_semi')\n",
    "```\n",
    "\n",
    "Equivalentes:\n",
    "```sql\n",
    "SELECT name\n",
    "FROM table_1 a\n",
    "    LEFT SEMI JOIN table_2 b ON (a.name=b.name)\n",
    "\n",
    "\n",
    "SELECT name\n",
    "FROM table_1 a\n",
    "WHERE EXISTS(\n",
    "    SELECT * FROM table_2 b WHERE (a.name=b.name))\n",
    "```"
   ]
  },
  {
   "cell_type": "markdown",
   "metadata": {},
   "source": [
    "## Full join\n",
    "Traz tudo existente tanto da esquerda quanto da direita e as intersecções como uma unica linha. Sera a união do INNER, LEFT OUTER e \"RIGHT OUTER\"\n",
    "\n",
    "```python\n",
    "### Outer join in pyspark\n",
    "df_outer = df1.join(df2, on=['Roll_No'], how='full')\n",
    "```"
   ]
  },
  {
   "cell_type": "markdown",
   "metadata": {},
   "source": [
    "## Anti join\n",
    "Pela descrição é igual a left anti.\n",
    "\n",
    "```python\n",
    "### Outer join in pyspark\n",
    "df_anti = df1.join(df2, on=['Roll_No'], how='anti')\n",
    "```\n",
    "\n"
   ]
  }
 ],
 "metadata": {
  "language_info": {
   "name": "python"
  },
  "orig_nbformat": 4
 },
 "nbformat": 4,
 "nbformat_minor": 2
}
