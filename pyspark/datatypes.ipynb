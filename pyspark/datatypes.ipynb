{
 "cells": [
  {
   "cell_type": "markdown",
   "metadata": {},
   "source": [
    "# Tipos de dados Spark\n",
    "\n",
    "Não confundir com os tipos de dados do Python, são diferentes.\n",
    "\n",
    "\n",
    "• Numeric types\n",
    "\t• ByteType: Represents 1-byte signed integer numbers. The range of numbers is from -128 to 127.\n",
    "\t• ShortType: Represents 2-byte signed integer numbers. The range of numbers is from -32768 to 32767.\n",
    "\t• IntegerType: Represents 4-byte signed integer numbers. The range of numbers is from -2147483648 to 2147483647.\n",
    "\t• LongType: Represents 8-byte signed integer numbers. The range of numbers is from -9223372036854775808 to 9223372036854775807.\n",
    "\t• FloatType: Represents 4-byte single-precision floating point numbers.\n",
    "\t• DoubleType: Represents 8-byte double-precision floating point numbers.\n",
    "\t• DecimalType: Represents arbitrary-precision signed decimal numbers. Backed internally by java.math.BigDecimal. A BigDecimal consists of an arbitrary precision integer unscaled value and a 32-bit integer scale.\n",
    "• String type:\n",
    "\t• StringType: Represents character string values.\n",
    "• Binary type:\n",
    "\t• BinaryType: Represents byte sequence values.\n",
    "• Boolean type:\n",
    "\t• BooleanType: Represents Boolean values.\n",
    "• Datetime types\n",
    "\t• TimestampType: Represents values comprising values of fields year, month, day, hour, minute, and second, with the session local time-zone. The timestamp value represents an absolute point in time.\n",
    "\t• DateType: Represents values comprising values of fields year, month and day, without a time-zone.\n",
    "• Complex types\n",
    "\t• ArrayType(elementType, containsNull): Represents values comprising a sequence of elements with the type of elementType. containsNull indicates if elements in a ArrayType value can have null values.\n",
    "\t• MapType(keyType, valueType, valueContainsNull): Represents values comprising a set of key-value pairs. The data type of keys is described by keyType and the data type of values is described by valueType. For a MapType value, keys are not allowed to have null values. valueContainsNull indicates if values of a MapType value can have null values.\n",
    "\t• StructType(fields): Represents values with the structure described by a sequence of StructFields (fields).\n",
    "StructField(name, dataType, nullable): Represents a field in a StructType. The name of a field is indicated by name. The data type of a field is indicated by dataType. nullable indicates if values of these fields can have null values.\n"
   ]
  }
 ],
 "metadata": {
  "language_info": {
   "name": "python"
  },
  "orig_nbformat": 4
 },
 "nbformat": 4,
 "nbformat_minor": 2
}
